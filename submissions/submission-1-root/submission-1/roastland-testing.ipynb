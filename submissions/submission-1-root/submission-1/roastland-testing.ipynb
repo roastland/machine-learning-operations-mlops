{
 "cells": [
  {
   "cell_type": "code",
   "execution_count": 1,
   "id": "initial_id",
   "metadata": {
    "collapsed": true,
    "ExecuteTime": {
     "end_time": "2024-06-24T08:59:33.618772Z",
     "start_time": "2024-06-24T08:59:25.214951Z"
    }
   },
   "outputs": [],
   "source": [
    "import requests\n",
    "import tensorflow as tf\n",
    "import numpy as np\n",
    "import json\n",
    "import matplotlib.pyplot as plt\n",
    "import base64"
   ]
  },
  {
   "cell_type": "code",
   "outputs": [],
   "source": [
    "def prepare_json(text):\n",
    "    # Create an Example proto from your feature dict.\n",
    "    feature_spec = {\n",
    "        # \"review\" merupakan feature key dari data\n",
    "        \"review\": tf.train.Feature(bytes_list=tf.train.BytesList(value=[bytes(text, \"utf-8\")]))\n",
    "    }\n",
    "    example = tf.train.Example(\n",
    "      features=tf.train.Features(feature=feature_spec)).SerializeToString()\n",
    "    result = [{'examples': {'b64': base64.b64encode(example).decode()}}]\n",
    "    \n",
    "    return json.dumps(\n",
    "        {\n",
    "            \"signature_name\":\"serving_default\",\n",
    "            \"instances\": result\n",
    "        }\n",
    "    )"
   ],
   "metadata": {
    "collapsed": false,
    "ExecuteTime": {
     "end_time": "2024-06-24T09:00:43.697927Z",
     "start_time": "2024-06-24T09:00:43.676043Z"
    }
   },
   "id": "bec663ab9af9cb27",
   "execution_count": 2
  },
  {
   "cell_type": "code",
   "outputs": [
    {
     "name": "stdout",
     "output_type": "stream",
     "text": [
      "{'The movie was fantastic! I really enjoyed it.': 'Positive', \"I didn't like the movie at all. It was boring.\": 'Negative'}\n"
     ]
    }
   ],
   "source": [
    "test_data = [\n",
    "    \"The movie was fantastic! I really enjoyed it.\",\n",
    "    \"I didn't like the movie at all. It was boring.\"\n",
    "]\n",
    "\n",
    "endpoint = \"http://localhost:8080/v1/models/roastland-pipeline:predict\"\n",
    "\n",
    "result = {}\n",
    "\n",
    "for text in test_data:\n",
    "    response = requests.post(endpoint, data=prepare_json(text))\n",
    "    if (response.json()[\"predictions\"][0][0] >= 0.5):\n",
    "        result[text] = \"Positive\"\n",
    "    else:\n",
    "        result[text] = \"Negative\"\n",
    "    \n",
    "print(result)"
   ],
   "metadata": {
    "collapsed": false,
    "ExecuteTime": {
     "end_time": "2024-06-24T09:09:37.822307Z",
     "start_time": "2024-06-24T09:09:37.783913Z"
    }
   },
   "id": "ab98fc0ef7f748c",
   "execution_count": 31
  },
  {
   "cell_type": "code",
   "outputs": [],
   "source": [],
   "metadata": {
    "collapsed": false
   },
   "id": "9475751a72521c25"
  }
 ],
 "metadata": {
  "kernelspec": {
   "display_name": "Python 3",
   "language": "python",
   "name": "python3"
  },
  "language_info": {
   "codemirror_mode": {
    "name": "ipython",
    "version": 2
   },
   "file_extension": ".py",
   "mimetype": "text/x-python",
   "name": "python",
   "nbconvert_exporter": "python",
   "pygments_lexer": "ipython2",
   "version": "2.7.6"
  }
 },
 "nbformat": 4,
 "nbformat_minor": 5
}
