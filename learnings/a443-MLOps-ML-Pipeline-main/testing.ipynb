{
 "cells": [
  {
   "cell_type": "code",
   "execution_count": 15,
   "id": "initial_id",
   "metadata": {
    "collapsed": true,
    "ExecuteTime": {
     "end_time": "2024-06-24T07:38:18.605006Z",
     "start_time": "2024-06-24T07:38:18.586631Z"
    }
   },
   "outputs": [],
   "source": [
    "import requests\n",
    "import tensorflow as tf\n",
    "import numpy as np\n",
    "import json\n",
    "import matplotlib.pyplot as plt\n",
    "import base64"
   ]
  },
  {
   "cell_type": "code",
   "outputs": [],
   "source": [
    "def prepare_json(text):\n",
    "    # Create an Example proto from your feature dict.\n",
    "    feature_spec = {\n",
    "        # \"review\" merupakan feature key dari data\n",
    "        \"headline\": tf.train.Feature(bytes_list=tf.train.BytesList(value=[bytes(text, \"utf-8\")]))\n",
    "    }\n",
    "    example = tf.train.Example(\n",
    "      features=tf.train.Features(feature=feature_spec)).SerializeToString()\n",
    "    result = [{'examples': {'b64': base64.b64encode(example).decode()}}]\n",
    "    \n",
    "    return json.dumps(\n",
    "        {\n",
    "            \"signature_name\":\"serving_default\",\n",
    "            \"instances\": result\n",
    "        }\n",
    "    )"
   ],
   "metadata": {
    "collapsed": false,
    "ExecuteTime": {
     "end_time": "2024-06-24T07:38:20.142223Z",
     "start_time": "2024-06-24T07:38:20.125227Z"
    }
   },
   "id": "8f21c97ca443f956",
   "execution_count": 16
  },
  {
   "cell_type": "code",
   "outputs": [
    {
     "name": "stdout",
     "output_type": "stream",
     "text": [
      "{'predictions': [[0.999991298]]}\n"
     ]
    }
   ],
   "source": [
    "test_data = \"mom starting to fear son's web series closest thing she will have to grandchild\"\n",
    "\n",
    "endpoint = \"http://localhost:8080/v1/models/sarchasm-detection-model:predict\"\n",
    "\n",
    "response = requests.post(endpoint, data=prepare_json(test_data))\n",
    "# prediction = tf.argmax(response.json()[\"predictions\"][0]).numpy()\n",
    "print(response.json())"
   ],
   "metadata": {
    "collapsed": false,
    "ExecuteTime": {
     "end_time": "2024-06-24T07:45:26.828476Z",
     "start_time": "2024-06-24T07:45:26.801475Z"
    }
   },
   "id": "429680117d7214c8",
   "execution_count": 21
  },
  {
   "cell_type": "code",
   "outputs": [],
   "source": [],
   "metadata": {
    "collapsed": false
   },
   "id": "a8bf7620fb3f44e"
  }
 ],
 "metadata": {
  "kernelspec": {
   "display_name": "Python 3",
   "language": "python",
   "name": "python3"
  },
  "language_info": {
   "codemirror_mode": {
    "name": "ipython",
    "version": 2
   },
   "file_extension": ".py",
   "mimetype": "text/x-python",
   "name": "python",
   "nbconvert_exporter": "python",
   "pygments_lexer": "ipython2",
   "version": "2.7.6"
  }
 },
 "nbformat": 4,
 "nbformat_minor": 5
}
